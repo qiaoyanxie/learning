{
  "nbformat": 4,
  "nbformat_minor": 0,
  "metadata": {
    "colab": {
      "name": "Github常用代码.ipynb",
      "provenance": [],
      "toc_visible": true,
      "authorship_tag": "ABX9TyPqyDc5NAfrl+kZV7E5KNlT",
      "include_colab_link": true
    },
    "kernelspec": {
      "name": "python3",
      "display_name": "Python 3"
    },
    "language_info": {
      "name": "python"
    }
  },
  "cells": [
    {
      "cell_type": "markdown",
      "metadata": {
        "id": "view-in-github",
        "colab_type": "text"
      },
      "source": [
        "<a href=\"https://colab.research.google.com/github/qiaoyanxie/learning/blob/main/Github%E5%B8%B8%E7%94%A8%E4%BB%A3%E7%A0%81.ipynb\" target=\"_parent\"><img src=\"https://colab.research.google.com/assets/colab-badge.svg\" alt=\"Open In Colab\"/></a>"
      ]
    },
    {
      "cell_type": "markdown",
      "metadata": {
        "id": "X2eVbV7pK_k4"
      },
      "source": [
        "# 挂在google drive\n"
      ]
    },
    {
      "cell_type": "code",
      "metadata": {
        "colab": {
          "base_uri": "https://localhost:8080/"
        },
        "id": "-DJvfyeOK4rp",
        "outputId": "8d2eeeed-0ee8-408c-ea21-b53f3a1d8189"
      },
      "source": [
        "from google.colab import drive\n",
        "drive.mount('/content/drive')"
      ],
      "execution_count": 2,
      "outputs": [
        {
          "output_type": "stream",
          "name": "stdout",
          "text": [
            "Mounted at /content/drive\n"
          ]
        }
      ]
    },
    {
      "cell_type": "markdown",
      "metadata": {
        "id": "TMqx_asKOOGX"
      },
      "source": [
        "# 下载数据集以及文件"
      ]
    },
    {
      "cell_type": "code",
      "metadata": {
        "id": "1B8LstIQOR3B"
      },
      "source": [
        "!echo \"Downloading train zarr dataset...\"\n",
        "!wget https://lyft-l5-datasets-public.s3-us-west-2.amazonaws.com/prediction/v1.1/train.tar \\\n",
        "    -q --show-progress -P $TEMP_DOWNLOAD_DIR\n",
        "\n",
        "!mkdir -p $TEMP_DATASET_DIR/scenes\n",
        "!tar xf $TEMP_DOWNLOAD_DIR/train.tar -C $TEMP_DATASET_DIR/scenes\n"
      ],
      "execution_count": null,
      "outputs": []
    }
  ]
}